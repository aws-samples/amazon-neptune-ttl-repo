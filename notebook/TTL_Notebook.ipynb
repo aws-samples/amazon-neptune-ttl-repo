{
 "cells": [
  {
   "cell_type": "markdown",
   "metadata": {},
   "source": [
    "Copyright Amazon.com, Inc. or its affiliates. All Rights Reserved.\n",
    "SPDX-License-Identifier: MIT-0"
   ]
  },
  {
   "cell_type": "markdown",
   "metadata": {},
   "source": [
    "# Implementing Time-to-Live in Amazon Neptune\n",
    "\n",
    "Time-to-Live (TTL) is used to determine the longevity or lifespan of an object, be it data, resource, file, or even a whole environment. Common uses for TTL include data caching for user sissions, security auditing, compliance, or when data is no longer relevant past a certain amount of time. In our example, we use TTL to determine when a particular node or edge should be removed. \n",
    "\n",
    "The following examples will walk you through how to test the deployed TTL setup."
   ]
  },
  {
   "cell_type": "markdown",
   "metadata": {},
   "source": [
    "### Configuring neptune_python_utils\n",
    "\n",
    "Before we begin, we'll need to fetch and install `neptune-python-utils`. [`neptune-python-utils`](https://github.com/awslabs/amazon-neptune-tools/tree/master/neptune-python-utils) is a Python 3 library that simplifies using Gremlin-Python to connect to Amazon Neptune. The library makes it easy to configure your driver to support IAM DB Authentication, create sessioned interactions with Neptune, and write data to Amazon Neptune from AWS Glue jobs."
   ]
  },
  {
   "cell_type": "code",
   "execution_count": null,
   "metadata": {},
   "outputs": [],
   "source": [
    "!git clone https://github.com/awslabs/amazon-neptune-tools.git"
   ]
  },
  {
   "cell_type": "code",
   "execution_count": null,
   "metadata": {},
   "outputs": [],
   "source": [
    "%%bash\n",
    "\n",
    "amt_dir=$(pwd)\n",
    "amt_dir+=\"/amazon-neptune-tools/neptune-python-utils/neptune_python_utils/\"\n",
    "npu_dir=$(python -c 'import site; print(site.getsitepackages()[0])')\n",
    "npu_dir+=\"/neptune_python_utils/\"\n",
    "echo \"Copying from\" $amt_dir \"to\" $npu_dir\n",
    "cp -r $amt_dir $npu_dir\n"
   ]
  },
  {
   "cell_type": "markdown",
   "metadata": {},
   "source": [
    "### Preparing sample data\n",
    "\n",
    "Run the following to set up a Gremlin connection to your Neptune cluster. It also defines example functions that will be used to create your graph with associated TTL values."
   ]
  },
  {
   "cell_type": "code",
   "execution_count": null,
   "metadata": {},
   "outputs": [],
   "source": [
    "import os\n",
    "import json\n",
    "import sys\n",
    "import subprocess\n",
    "import boto3\n",
    "import time\n",
    "import random\n",
    "import math\n",
    "from neptune_python_utils.endpoints import Endpoints\n",
    "from neptune_python_utils.gremlin_utils import GremlinUtils\n",
    "from gremlin_python import statics\n",
    "from gremlin_python.structure.graph import Graph\n",
    "from gremlin_python.process.graph_traversal import __\n",
    "from gremlin_python.process.strategies import *\n",
    "from gremlin_python.driver.driver_remote_connection import DriverRemoteConnection\n",
    "from gremlin_python.driver.aiohttp.transport import AiohttpTransport\n",
    "from gremlin_python.process.traversal import *\n",
    "\n",
    "# get neptune endpoint from environment vars\n",
    "stream = os.popen(\"source ~/.bashrc ; echo $GRAPH_NOTEBOOK_HOST; echo $GRAPH_NOTEBOOK_PORT ; echo $NEPTUNE_TTL_PROPERTY_NAME ; echo $AWS_REGION;\")\n",
    "nep_settings = stream.read().split(\"\\n\")\n",
    "\n",
    "endpoints = Endpoints(\n",
    "        neptune_endpoint=nep_settings[0], \n",
    "        region_name=nep_settings[3])\n",
    "\n",
    "# create gremlin connection, get traversal object\n",
    "GremlinUtils.init_statics(globals())\n",
    "gremlin_utils = GremlinUtils(endpoints)\n",
    "\n",
    "conn = gremlin_utils.remote_connection()\n",
    "g = gremlin_utils.traversal_source(connection=conn)\n",
    "\n",
    "TTL_PROP_NAME = nep_settings[2]\n",
    "LABEL='TTL-test'\n",
    "ID_PREFIX='ttl_'\n",
    "PROP1='prop1'\n",
    "PROP1_VAL='xyz'\n",
    "PROP2='prop2'\n",
    "PROP2_VAL='abc'\n",
    "\n",
    "EDGE_LABEL='linkedTo'\n",
    "\n",
    "'''\n",
    "Create vertex with label LABEL and id ID_PREFIX_(idx + id_offset)\n",
    "It has props PROP1 and PROP2.\n",
    "To set TTL:\n",
    "   If ttl_offset >= 0, set prop TTL to currtime + ttl_offset. \n",
    "   Otherwise, set prop \"noTTL\" to \"dontcare\n",
    "'''\n",
    "def create_vertex(g, idx, id_offset, ttl_offset):\n",
    "\n",
    "    vid = ID_PREFIX + str(idx + id_offset)\n",
    "    \n",
    "    ttl_prop = TTL_PROP_NAME\n",
    "    ttl = int(time.time()) + ttl_offset\n",
    "    if ttl_offset < 0:\n",
    "        ttl_prop = \"no\" + TTL_PROP_NAME\n",
    "        ttl = 0\n",
    "        \n",
    "    try:\n",
    "        g.addV(LABEL).property(T.id, vid).property('testBatch', id_offset) \\\n",
    "            .property(PROP1, PROP1_VAL).property(PROP2, PROP2_VAL) \\\n",
    "            .property(ttl_prop, ttl).next()\n",
    "        #print(\"Created vertex \" + vid +  \" ttl \" + str(ttl))\n",
    "    except Exception as ex:\n",
    "        template = \"An exception of type {0} occurred. Arguments:\\n{1!r}\"\n",
    "        message = template.format(type(ex).__name__, ex.args)\n",
    "        print(\"Exception processing Neptune object \" + vid + \" exception \" + message)\n",
    "        raise\n",
    "      \n",
    "'''\n",
    "Create edge with label EDGE_LABEL and id <src>-<target>\n",
    "It has props PROP1 and PROP2 and can have TTLs. These work the same as with a vertex\n",
    "You pass a single source vertex but a bunch of target vertices (min_tgt_idx to max_tgt_idx)\n",
    "You can put a probability that the edge exists (prob_edge)\n",
    "'''\n",
    "def create_edges(g, src_idx, id_offset, min_tgt_idx, max_tgt_idx, prob_edge, ttl_offset):\n",
    "    # source vertex\n",
    "    src_vid = ID_PREFIX + str(src_idx + id_offset)\n",
    "    \n",
    "    # edge TTL\n",
    "    ttl_prop = TTL_PROP_NAME\n",
    "    ttl = int(time.time()) + ttl_offset\n",
    "    if ttl_offset < 0:\n",
    "        ttl_prop = \"no\" + TTL_PROP_NAME\n",
    "        ttl = 0\n",
    "        \n",
    "    # for each possible target, edge, create an edge (given probability)\n",
    "    for e in range(min_tgt_idx, max_tgt_idx):\n",
    "        if (e - min_tgt_idx) % 1000 == 0:\n",
    "            print(str(e - min_tgt_idx))\n",
    "\n",
    "        if random.random() > (1.0 - prob_edge):\n",
    "            tgt_vid = ID_PREFIX + str(e + id_offset)\n",
    "            tgt_node = g.V(tgt_vid).toList()[-1]\n",
    "            edge_id = src_vid + \"-\" + tgt_vid\n",
    "            try:\n",
    "                g.V(src_vid).addE(EDGE_LABEL).to(tgt_node).property('testBatch', id_offset) \\\n",
    "                    .property(PROP1, PROP1_VAL).property(PROP2, PROP2_VAL) \\\n",
    "                    .property(ttl_prop, ttl).next()\n",
    "                #print(\"Edge \" + edge_id + \" ttl \" + str(ttl))\n",
    "\n",
    "            except Exception as ex:\n",
    "                template = \"An exception of type {0} occurred. Arguments:\\n{1!r}\"\n",
    "                message = template.format(type(ex).__name__, ex.args)\n",
    "                print(\"Exception processing Neptune object \" + edge_id + \" exception \" + message)\n",
    "                raise\n",
    "\n"
   ]
  },
  {
   "cell_type": "markdown",
   "metadata": {},
   "source": [
    "### Validating an empty graph\n",
    "\n",
    "Run the following to validate that your graph is currently empty. The expected output is 0."
   ]
  },
  {
   "cell_type": "code",
   "execution_count": null,
   "metadata": {},
   "outputs": [],
   "source": [
    "%%gremlin\n",
    "\n",
    "g.V().count()"
   ]
  },
  {
   "cell_type": "markdown",
   "metadata": {},
   "source": [
    "### Create nodes and edges with object TTL\n",
    "\n",
    "Use the following variables to set the minimum and maximum TTL ranges for your test nodes (in seconds). These values will set the TTL values used for your sample nodes and edges. For example, a `min_ttl` of 30 and a `max_ttl` of 60 means that when you run the following script, it will create nodes and edges set to expire in 30-60 seconds after object creation."
   ]
  },
  {
   "cell_type": "code",
   "execution_count": null,
   "metadata": {},
   "outputs": [],
   "source": [
    "min_ttl = 30"
   ]
  },
  {
   "cell_type": "code",
   "execution_count": null,
   "metadata": {},
   "outputs": [],
   "source": [
    "max_ttl = 60"
   ]
  },
  {
   "cell_type": "markdown",
   "metadata": {},
   "source": [
    "Now run the following to add 100 nodes, and a random number of edges. All objects will have a random TTL property value between the minimum and maximum values you specified - calculated from when you run it - added to them."
   ]
  },
  {
   "cell_type": "code",
   "execution_count": null,
   "metadata": {},
   "outputs": [],
   "source": [
    "id_offset = 100000\n",
    "object_batch = id_offset\n",
    "start_idx = id_offset\n",
    "src_node = create_vertex(g, start_idx, id_offset, 1000)\n",
    "src_graph_size = 100\n",
    "for i in range(1, src_graph_size):\n",
    "    src_node = create_vertex(g, start_idx + i, id_offset, random.randint(min_ttl, max_ttl))\n",
    "create_edges(g, start_idx, id_offset, start_idx + 1, start_idx + src_graph_size, 0.5, random.randint(min_ttl, max_ttl))\n"
   ]
  },
  {
   "cell_type": "markdown",
   "metadata": {},
   "source": [
    "Run the following to view the nodes - there should be 100 entries."
   ]
  },
  {
   "cell_type": "code",
   "execution_count": null,
   "metadata": {
    "scrolled": false
   },
   "outputs": [],
   "source": [
    "%%gremlin\n",
    "\n",
    "g.V().hasLabel('${LABEL}').has('testBatch', ${object_batch}).elementMap()"
   ]
  },
  {
   "cell_type": "markdown",
   "metadata": {},
   "source": [
    "Run the following to view the edges - there should be a non-zero amount of entries."
   ]
  },
  {
   "cell_type": "code",
   "execution_count": null,
   "metadata": {},
   "outputs": [],
   "source": [
    "%%gremlin\n",
    "\n",
    "g.E().hasLabel('${EDGE_LABEL}').has('testBatch', ${object_batch}).elementMap()"
   ]
  },
  {
   "cell_type": "markdown",
   "metadata": {},
   "source": [
    "We can also use the `%stream_viewer` to look at the records in Neptune Streams. You should see multiple entries added. Make sure the dropdown option is set to `PropertyGraph`."
   ]
  },
  {
   "cell_type": "code",
   "execution_count": null,
   "metadata": {},
   "outputs": [],
   "source": [
    "%stream_viewer"
   ]
  },
  {
   "cell_type": "markdown",
   "metadata": {},
   "source": [
    "### Validating dropped objects\n",
    "\n",
    "Navigate to the [DynamoDB](https://us-east-1.console.aws.amazon.com/dynamodbv2/) console, and select \"Explore items\" from the left-hand sidebar. Select the table that is prefixed with `NeptuneObject2TTL`. You should see the objects that you added, along with their TTL values. \n",
    "\n",
    "Once the objects in DynamoDB are dropped, run the following query to validate that they also were dropped in Neptune. Note that DynamoDB's TTL is a background process, so the actual delete operation of an expired item can vary, and DynamoDB's TTL typically deletes expired items within 48 hours of expiration. Additional details on how this works can be found [here](https://docs.aws.amazon.com/amazondynamodb/latest/developerguide/howitworks-ttl.html)."
   ]
  },
  {
   "cell_type": "code",
   "execution_count": null,
   "metadata": {},
   "outputs": [],
   "source": [
    "%%gremlin\n",
    "\n",
    "g.V().hasLabel('${LABEL}').has('testBatch', ${object_batch}).elementMap()"
   ]
  },
  {
   "cell_type": "markdown",
   "metadata": {},
   "source": [
    "We can also check for nodes that are still present in the graph, vs nodes that have been \"expired\" by using a date/time comparison on the TTL property."
   ]
  },
  {
   "cell_type": "code",
   "execution_count": null,
   "metadata": {},
   "outputs": [],
   "source": [
    "import time\n",
    "current_time = round(time.time())"
   ]
  },
  {
   "cell_type": "code",
   "execution_count": null,
   "metadata": {},
   "outputs": [],
   "source": [
    "%%gremlin\n",
    "\n",
    "g.V().has('TTLBlog#TTL',gt(${current_time}))"
   ]
  },
  {
   "cell_type": "markdown",
   "metadata": {},
   "source": [
    "You may notice nodes that exist in the graph, even though the current time is past their current TTL time. This is because the solution is based off [DynamoDB TTL](https://docs.aws.amazon.com/amazondynamodb/latest/developerguide/TTL.html) expiring items, which uses \"best effort\" to expire items within a few days. To learn more about this process, refer to the [documentation](https://docs.aws.amazon.com/amazondynamodb/latest/developerguide/howitworks-ttl.html)."
   ]
  }
 ],
 "metadata": {
  "kernelspec": {
   "display_name": "Python 3",
   "language": "python",
   "name": "python3"
  },
  "language_info": {
   "codemirror_mode": {
    "name": "ipython",
    "version": 3
   },
   "file_extension": ".py",
   "mimetype": "text/x-python",
   "name": "python",
   "nbconvert_exporter": "python",
   "pygments_lexer": "ipython3",
   "version": "3.10.8"
  }
 },
 "nbformat": 4,
 "nbformat_minor": 4
}
